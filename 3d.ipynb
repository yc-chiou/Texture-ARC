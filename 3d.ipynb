{
 "cells": [
  {
   "cell_type": "code",
   "execution_count": 6,
   "metadata": {},
   "outputs": [
    {
     "name": "stdout",
     "output_type": "stream",
     "text": [
      "-----------\n",
      "Initializing structure...\n",
      "time for choose_chunkdivision = 1,12057e-05 s\n",
      "Working in 3D dimensions.\n",
      "Computational cell is 2 x 2 x 2 with resolution 30\n",
      "     prism, center = (0,0,0,5)\n",
      "          height 1, axis (0,0,1), sidewall angle: 0 radians, 6 vertices:\n",
      "          (-1,0,0)\n",
      "          (-0,5,0,866025,0)\n",
      "          (0,5,0,866025,0)\n",
      "          (1,0,0)\n",
      "          (0,5,-0,866025,0)\n",
      "          (-0,5,-0,866025,0)\n",
      "          dielectric constant epsilon diagonal = (12,25,12,25,12,25)\n",
      "     cone, center = (0,0,0)\n",
      "          radius 1, height 2, axis (0, 0, 1)\n",
      "          radius2 0,1\n",
      "          dielectric constant epsilon diagonal = (1,1,1)\n",
      "time for set_epsilon = 9,7772 s\n",
      "-----------\n",
      "Time : 9.807053 seconds\n"
     ]
    }
   ],
   "source": [
    "import meep as mp\n",
    "import numpy as np\n",
    "import math\n",
    "import time\n",
    "\n",
    "\n",
    "start = time.time()\n",
    "\n",
    "\n",
    "cell_size = mp.Vector3(2,2,2)\n",
    "# A hexagon is defined as a prism with six vertices centered on the origin\n",
    "vertices = [mp.Vector3(-1,0),\n",
    "            mp.Vector3(-0.5,math.sqrt(3)/2),\n",
    "            mp.Vector3(0.5,math.sqrt(3)/2),\n",
    "            mp.Vector3(1,0),\n",
    "            mp.Vector3(0.5,-math.sqrt(3)/2),\n",
    "            mp.Vector3(-0.5,-math.sqrt(3)/2)]\n",
    "\n",
    "geometry = [mp.Prism(vertices, height=1.0, material=mp.Medium(index=3.5)),\n",
    "            mp.Cone(radius=1.0, radius2=0.1, height=2.0, material=mp.air)]\n",
    "\n",
    "sim = mp.Simulation(resolution=30,\n",
    "                    cell_size=cell_size,\n",
    "                    geometry=geometry)\n",
    "\n",
    "sim.init_sim()\n",
    "\n",
    "eps_data = sim.get_epsilon()\n",
    "end = time.time()\n",
    "print('Time : %f seconds' % (end -start))\n",
    "\n",
    "from mayavi import mlab\n",
    "s = mlab.contour3d(eps_data, colormap=\"YlGnBu\")\n",
    "mlab.show()\n"
   ]
  },
  {
   "cell_type": "code",
   "execution_count": null,
   "metadata": {},
   "outputs": [],
   "source": []
  }
 ],
 "metadata": {
  "kernelspec": {
   "display_name": "Python 3",
   "language": "python",
   "name": "python3"
  },
  "language_info": {
   "codemirror_mode": {
    "name": "ipython",
    "version": 3
   },
   "file_extension": ".py",
   "mimetype": "text/x-python",
   "name": "python",
   "nbconvert_exporter": "python",
   "pygments_lexer": "ipython3",
   "version": "3.9.6"
  }
 },
 "nbformat": 4,
 "nbformat_minor": 4
}
